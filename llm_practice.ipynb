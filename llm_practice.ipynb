{
 "cells": [
  {
   "cell_type": "code",
   "execution_count": 2,
   "metadata": {},
   "outputs": [
    {
     "name": "stdout",
     "output_type": "stream",
     "text": [
      "Requirement already satisfied: python-dotenv in c:\\openai practice\\.venv\\lib\\site-packages (1.0.1)\n"
     ]
    }
   ],
   "source": [
    "from langchain.llms import OpenAI\n",
    "%pip install python-dotenv"
   ]
  },
  {
   "cell_type": "code",
   "execution_count": 3,
   "metadata": {},
   "outputs": [
    {
     "data": {
      "text/plain": [
       "True"
      ]
     },
     "execution_count": 3,
     "metadata": {},
     "output_type": "execute_result"
    }
   ],
   "source": [
    "from dotenv import load_dotenv #to access environment variables in .env file\n",
    "import os\n",
    "\n",
    "load_dotenv()\n",
    "\n"
   ]
  },
  {
   "cell_type": "code",
   "execution_count": 4,
   "metadata": {},
   "outputs": [
    {
     "name": "stdout",
     "output_type": "stream",
     "text": [
      "Note: you may need to restart the kernel to use updated packages.\n"
     ]
    }
   ],
   "source": [
    "%pip install --upgrade --quiet  langchain-openai\n",
    "\n",
    "\n",
    "# Import Azure OpenAI\n",
    "from langchain_openai import AzureChatOpenAI"
   ]
  },
  {
   "cell_type": "markdown",
   "metadata": {},
   "source": [
    "We can use both os.getenv and os.environ, just make sure you are using right format\n",
    "\n",
    "\n",
    "for os.getenv(\"\")\n",
    "\n",
    "for os.environ[\"\"]"
   ]
  },
  {
   "cell_type": "code",
   "execution_count": 5,
   "metadata": {},
   "outputs": [
    {
     "name": "stdout",
     "output_type": "stream",
     "text": [
      "content=\"India, the land of vibrant colors and sounds,\\nWhere history and modernity astound,\\nA land of diverse cultures and traditions,\\nOf timeless tales and mystic visions.\\n\\nFrom the snow-capped Himalayan peaks,\\nTo the sandy shores of the southern seas,\\nIndia's beauty is beyond compare,\\nA land of wonders, oh so rare.\\n\\nThe Taj Mahal's white marble dome,\\nA symbol of love, forever known,\\nThe Red Fort's grandeur, a sight to see,\\nA testimony to India's history.\\n\\nThe Ganges, sacred and divine,\\nA river that flows through space and time,\\nA land of spirituality and faith,\\nWhere gods and goddesses hold sway.\\n\\nThe bustling cities, alive with energy,\\nThe markets and bazaars, a cacophony,\\nOf fragrances, flavors, and sights,\\nA sensory overload, day and night.\\n\\nIndia, a country that captures the heart,\\nOf those who visit, and never depart,\\nA land of warmth and hospitality,\\nWhere every visitor is treated royally.\\n\\nIndia, a jewel in the crown,\\nOf the world's cultural heritage renowned,\\nA land of endless possibilities,\\nWhere dreams can come true, with ease.\"\n"
     ]
    }
   ],
   "source": [
    "# check the os environment variable settings\n",
    "azure_openai_api_key = os.getenv(\"AZURE_OPENAI_API_KEY\")\n",
    "azure_openai_endpoint = os.getenv(\"AZURE_OPENAI_ENDPOINT\")\n",
    "\n",
    "llm = AzureChatOpenAI(\n",
    "    openai_api_version=os.getenv(\"OPENAI_API_VERSION\"),\n",
    "    azure_deployment=\"gpt-35-turbo\",\n",
    ")\n",
    "\n",
    "text=\"Write a poem about India\"\n",
    "\n",
    "print(llm.invoke(text))"
   ]
  },
  {
   "cell_type": "markdown",
   "metadata": {},
   "source": [
    "### Prompt Templates And LLMChain\n"
   ]
  },
  {
   "cell_type": "code",
   "execution_count": 6,
   "metadata": {},
   "outputs": [
    {
     "data": {
      "text/plain": [
       "'what is famous in Tamil Nadu'"
      ]
     },
     "execution_count": 6,
     "metadata": {},
     "output_type": "execute_result"
    }
   ],
   "source": [
    "from langchain.prompts import PromptTemplate\n",
    "\n",
    "prompt_template= PromptTemplate.from_template('what is famous in {state}')\n",
    "\n",
    "prompt_template.format(state='Tamil Nadu')"
   ]
  },
  {
   "cell_type": "code",
   "execution_count": 7,
   "metadata": {},
   "outputs": [
    {
     "data": {
      "text/plain": [
       "{'state': 'Tamil Nadu',\n",
       " 'text': 'Tamil Nadu is famous for its rich cultural heritage, art, literature, dance forms, music, cuisine, and historical monuments. Some of the famous attractions in Tamil Nadu are:\\n\\n1. Meenakshi Temple in Madurai\\n2. Brihadeeswara Temple in Thanjavur\\n3. Mahabalipuram Shore Temple\\n4. Marina Beach in Chennai\\n5. Pongal Festival\\n6. Chettinad Cuisine\\n7. Bharatanatyam Dance\\n8. Kanchipuram Silk Sarees\\n9. Tamil Literature and Language\\n10. Hill Stations like Ooty and Kodaikanal.'}"
      ]
     },
     "execution_count": 7,
     "metadata": {},
     "output_type": "execute_result"
    }
   ],
   "source": [
    "from langchain.chains import LLMChain\n",
    "\n",
    "chain= LLMChain(llm=llm, prompt=prompt_template)\n",
    "chain.invoke(\"Tamil Nadu\")\n"
   ]
  },
  {
   "cell_type": "markdown",
   "metadata": {},
   "source": [
    "### Combining Multiple Chains Uing simple Sequential Chain\n"
   ]
  },
  {
   "cell_type": "code",
   "execution_count": 8,
   "metadata": {},
   "outputs": [],
   "source": [
    "prompt_template1= PromptTemplate.from_template('what is the capital of {country}')\n",
    "chain1= LLMChain(llm=llm, prompt=prompt_template1)\n",
    "prompt_template2= PromptTemplate.from_template('what is famous in {capital}')\n",
    "chain2= LLMChain(llm=llm, prompt=prompt_template2)\n",
    "\n"
   ]
  },
  {
   "cell_type": "code",
   "execution_count": 9,
   "metadata": {},
   "outputs": [
    {
     "data": {
      "text/plain": [
       "{'input': 'Singapore',\n",
       " 'output': 'While this statement is true, it is not informative. Here are some famous attractions in Singapore that people may be interested in visiting:\\n\\n- Marina Bay Sands\\n- Gardens by the Bay\\n- Sentosa Island\\n- Merlion Park\\n- Orchard Road\\n- Clarke Quay\\n- Chinatown\\n- Universal Studios Singapore\\n- Singapore Zoo\\n- National Gallery Singapore\\n- Hawker centres for local food\\n\\nSingapore is also known for its cleanliness, efficiency, and safety.'}"
      ]
     },
     "execution_count": 9,
     "metadata": {},
     "output_type": "execute_result"
    }
   ],
   "source": [
    "from langchain.chains import SimpleSequentialChain\n",
    "schain=SimpleSequentialChain(chains=[chain1,chain2])\n",
    "schain.invoke(\"Singapore\")"
   ]
  },
  {
   "cell_type": "markdown",
   "metadata": {},
   "source": [
    "### Sequential Chain\n"
   ]
  },
  {
   "cell_type": "code",
   "execution_count": 10,
   "metadata": {},
   "outputs": [
    {
     "data": {
      "text/plain": [
       "{'country': 'Malaysia',\n",
       " 'capital': 'The capital of Malaysia is Kuala Lumpur.',\n",
       " 'places': 'Kuala Lumpur is famous for its iconic landmarks such as the Petronas Twin Towers, Batu Caves, Menara Kuala Lumpur, Bukit Bintang shopping district, and the Kuala Lumpur Tower. It is also known for its diverse culinary scene, night markets, and street food. The city is a hub for business, tourism, and culture, with a mix of modern skyscrapers and traditional architecture.'}"
      ]
     },
     "execution_count": 10,
     "metadata": {},
     "output_type": "execute_result"
    }
   ],
   "source": [
    "from langchain.chains import SequentialChain\n",
    "\n",
    "\n",
    "prompt_template1= PromptTemplate.from_template('what is the capital of {country}')\n",
    "chain1= LLMChain(llm=llm, prompt=prompt_template1,output_key='capital')\n",
    "prompt_template2= PromptTemplate.from_template('what is famous in {capital}')\n",
    "chain2= LLMChain(llm=llm, prompt=prompt_template2,output_key='places')\n",
    "\n",
    "\n",
    "\n",
    "sschain=SequentialChain(chains=[chain1,chain2],\n",
    "                        input_variables=[\"country\"],\n",
    "                        output_variables=[\"capital\",\"places\"])\n",
    "\n",
    "sschain.invoke(\"Malaysia\")\n"
   ]
  },
  {
   "cell_type": "code",
   "execution_count": 11,
   "metadata": {},
   "outputs": [
    {
     "data": {
      "text/plain": [
       "{'Review': 'Les ordinateurs portables GamersTech impressionne par ses performances exceptionnelles et son design élégant. De sa configuration matérielle robuste à un clavier RVB personnalisable et un système de refroidissement efficace, il établit un équilibre parfait entre prouesses de jeu et portabilité.',\n",
       " 'translate': 'The GamersTech laptops impress with their exceptional performance and elegant design. From their robust hardware configuration to a customizable RGB keyboard and efficient cooling system, they strike a perfect balance between gaming prowess and portability.',\n",
       " 'summerize': 'GamersTech laptops have outstanding performance and sleek design, featuring powerful hardware, customizable RGB keyboard, and effective cooling system for a perfect balance of gaming and portability.',\n",
       " 'title': '\"GamersTech Laptops: The Perfect Combination of Performance and Style\"'}"
      ]
     },
     "execution_count": 11,
     "metadata": {},
     "output_type": "execute_result"
    }
   ],
   "source": [
    "Review = 'Les ordinateurs portables GamersTech impressionne par ses performances exceptionnelles et son design élégant. De sa configuration matérielle robuste à un clavier RVB personnalisable et un système de refroidissement efficace, il établit un équilibre parfait entre prouesses de jeu et portabilité.'\n",
    "\n",
    "\n",
    "prompt_template1= PromptTemplate.from_template('Translate the review in english {Review}')\n",
    "chain1= LLMChain(llm=llm, prompt=prompt_template1,output_key='translate')\n",
    "prompt_template2= PromptTemplate.from_template('Summerize the content in 2 senetnces {translate}')\n",
    "chain2= LLMChain(llm=llm, prompt=prompt_template2,output_key='summerize')\n",
    "prompt_template3= PromptTemplate.from_template('Give a title to the summerization {summerize}')\n",
    "chain3= LLMChain(llm=llm, prompt=prompt_template3,output_key='title')\n",
    "\n",
    "\n",
    "sschain=SequentialChain(chains=[chain1,chain2,chain3],\n",
    "                        input_variables=[\"Review\"],\n",
    "                        output_variables=[\"translate\",\"summerize\",\"title\"])\n",
    "\n",
    "sschain.invoke(Review)\n"
   ]
  },
  {
   "cell_type": "markdown",
   "metadata": {},
   "source": [
    "### Chatmodels With ChatOpenAI\n"
   ]
  },
  {
   "cell_type": "code",
   "execution_count": 12,
   "metadata": {},
   "outputs": [],
   "source": [
    "from langchain.chat_models import ChatOpenAI\n",
    "from langchain.schema import HumanMessage,SystemMessage,AIMessage"
   ]
  },
  {
   "cell_type": "code",
   "execution_count": 13,
   "metadata": {},
   "outputs": [],
   "source": [
    "llm = AzureChatOpenAI(\n",
    "    openai_api_version=os.getenv(\"OPENAI_API_VERSION\"),\n",
    "    azure_deployment=\"gpt-35-turbo\",\n",
    ")"
   ]
  },
  {
   "cell_type": "code",
   "execution_count": 14,
   "metadata": {},
   "outputs": [
    {
     "data": {
      "text/plain": [
       "AIMessage(content=\"I'm sorry to hear that. Based on your symptoms, it sounds like you may be experiencing a viral or bacterial infection. It's important to drink plenty of fluids and get proper rest to help your body fight off the infection. Additionally, over-the-counter pain relievers like ibuprofen or acetaminophen can help relieve headache and throat pain. For food poisoning, it is important to avoid solid foods and stick to clear liquids like water, ginger ale, or electrolyte drinks until your symptoms improve. If your symptoms persist or worsen, it's important to seek medical attention from a healthcare provider.\")"
      ]
     },
     "execution_count": 14,
     "metadata": {},
     "output_type": "execute_result"
    }
   ],
   "source": [
    "llm.invoke([SystemMessage(content=\"You are a AI doctor\"),HumanMessage(content=\"I have a headache and running nose with throat inflammation and food poisoning\")])"
   ]
  },
  {
   "cell_type": "code",
   "execution_count": 15,
   "metadata": {},
   "outputs": [
    {
     "data": {
      "text/plain": [
       "AIMessage(content=\"As a social media influencer, it's important to have a plan in place to address negativity in your comments. Here are some tips to help you deal with negative comments:\\n\\n1. Don't take it personally: Remember that negative comments are not a reflection of you as a person, but rather a reflection of the commenter's own issues or opinions. \\n\\n2. Respond professionally: If you do choose to respond, do so professionally and with empathy. Acknowledge the commenter's concerns and try to address them in a respectful manner.\\n\\n3. Ignore it: Sometimes it's best to simply ignore negative comments. Responding to every negative comment can be exhausting and may even encourage more negativity.\\n\\n4. Engage with your positive followers: Focus on engaging with your positive followers and building a community of supportive individuals who appreciate your content.\\n\\n5. Use moderation tools: Use the moderation tools available on social media platforms to filter out or block negative comments.\\n\\nRemember, social media can be a tough place, but focusing on the positive and engaging with your supportive followers can help you stay motivated and continue creating great content.\")"
      ]
     },
     "execution_count": 15,
     "metadata": {},
     "output_type": "execute_result"
    }
   ],
   "source": [
    "llm.invoke([SystemMessage(content=\"You are a social media influencer\"),HumanMessage(content=\"how to address all the negtivity you face in social media comments\")])"
   ]
  },
  {
   "cell_type": "markdown",
   "metadata": {},
   "source": [
    "### Prompt Template + LLM \n"
   ]
  },
  {
   "cell_type": "code",
   "execution_count": 21,
   "metadata": {},
   "outputs": [],
   "source": [
    "from langchain.prompts.chat import ChatPromptTemplate\n",
    "from langchain.schema import BaseOutputParser"
   ]
  },
  {
   "cell_type": "code",
   "execution_count": 22,
   "metadata": {},
   "outputs": [],
   "source": [
    "template='you are an assistant in translating the contents from english to Tamil'\n",
    "human_template=\"{text}\"\n",
    "\n",
    "chatprompt= ChatPromptTemplate.from_messages([(\"system\",template),(\"human\",human_template)])"
   ]
  },
  {
   "cell_type": "code",
   "execution_count": 35,
   "metadata": {},
   "outputs": [],
   "source": [
    "chain= chatprompt|llm\n",
    "text=\"AI has been developing vastly across all the fields which also gives a solid foundation\"\n",
    "response=chain.invoke({\"text\":text})"
   ]
  },
  {
   "cell_type": "code",
   "execution_count": 39,
   "metadata": {},
   "outputs": [
    {
     "data": {
      "text/plain": [
       "'for the growth of the economy.\\n\\nஅணுகல் மொழியின் பல புலம்பலுக்கும் பல புலனாக மேம்படுகிறது எனது கருத்து. இது, பொருளின் வளர்ச்சிக்கு ஒரு மிகவும் நன்மைகளான அடிப்படையைக் கொடுக்கின்றது.'"
      ]
     },
     "execution_count": 39,
     "metadata": {},
     "output_type": "execute_result"
    }
   ],
   "source": [
    "response.content"
   ]
  }
 ],
 "metadata": {
  "kernelspec": {
   "display_name": "openai-env",
   "language": "python",
   "name": "python3"
  },
  "language_info": {
   "codemirror_mode": {
    "name": "ipython",
    "version": 3
   },
   "file_extension": ".py",
   "mimetype": "text/x-python",
   "name": "python",
   "nbconvert_exporter": "python",
   "pygments_lexer": "ipython3",
   "version": "3.10.8"
  }
 },
 "nbformat": 4,
 "nbformat_minor": 2
}
